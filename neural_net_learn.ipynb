{
  "nbformat": 4,
  "nbformat_minor": 0,
  "metadata": {
    "colab": {
      "provenance": [],
      "mount_file_id": "1gLy3jWsSzewxcKoxNKNAmWm5JRYtu33z",
      "authorship_tag": "ABX9TyMtpWnZC7uhwslJxHXBt0YK",
      "include_colab_link": true
    },
    "kernelspec": {
      "name": "python3",
      "display_name": "Python 3"
    },
    "language_info": {
      "name": "python"
    }
  },
  "cells": [
    {
      "cell_type": "markdown",
      "metadata": {
        "id": "view-in-github",
        "colab_type": "text"
      },
      "source": [
        "<a href=\"https://colab.research.google.com/github/SimonHanzal/explorative_protocols/blob/main/neural_net_learn.ipynb\" target=\"_parent\"><img src=\"https://colab.research.google.com/assets/colab-badge.svg\" alt=\"Open In Colab\"/></a>"
      ]
    },
    {
      "cell_type": "markdown",
      "source": [
        "#Old"
      ],
      "metadata": {
        "id": "CeMi1zHxsnBQ"
      }
    },
    {
      "cell_type": "code",
      "source": [
        "\n",
        "#!pip install mne_connectivity\n",
        "# raw = mne.io.read_raw_brainvision(data_path)\n",
        "# epochs = mne.make_fixed_length_epochs(raw, duration=1, preload=True)\n",
        "#raw_highpass = raw.copy().filter(l_freq=2, h_freq=40)\n",
        "#covariance.plot(raw.info, proj=True)"
      ],
      "metadata": {
        "id": "FxsRaMTjKA1V"
      },
      "execution_count": null,
      "outputs": []
    },
    {
      "cell_type": "code",
      "source": [
        "!pip install mne"
      ],
      "metadata": {
        "id": "bqqhY_JoeyNU"
      },
      "execution_count": null,
      "outputs": []
    },
    {
      "cell_type": "markdown",
      "source": [
        "#Set-up"
      ],
      "metadata": {
        "id": "ONBJBN67spXO"
      }
    },
    {
      "cell_type": "markdown",
      "source": [
        "Imports"
      ],
      "metadata": {
        "id": "SqfR9_C4gbtH"
      }
    },
    {
      "cell_type": "code",
      "execution_count": null,
      "metadata": {
        "id": "N1kSu2dli-p7"
      },
      "outputs": [],
      "source": [
        "import h5py\n",
        "import matplotlib.pyplot as plt\n",
        "import mne\n",
        "import numpy as np\n",
        "import seaborn as sns\n",
        "import scipy.io as sc\n",
        "import scipy.stats as st\n",
        "from mne_connectivity import envelope_correlation\n",
        "from sklearn.linear_model import RidgeClassifier\n",
        "from sklearn.datasets import load_breast_cancer\n",
        "from sklearn.metrics import accuracy_score\n",
        "from sklearn.model_selection import train_test_split\n",
        "from sklearn.preprocessing import StandardScaler"
      ]
    },
    {
      "cell_type": "markdown",
      "source": [
        "Running classifier in a simple scenario"
      ],
      "metadata": {
        "id": "cEj_ivTUsrAk"
      }
    },
    {
      "cell_type": "code",
      "source": [
        "X, y = load_breast_cancer(return_X_y=True)\n",
        "clf = RidgeClassifier().fit(X, y)\n",
        "clf.score(X, y)"
      ],
      "metadata": {
        "colab": {
          "base_uri": "https://localhost:8080/"
        },
        "id": "7uTHfs3nas6F",
        "outputId": "6c039305-62bf-4c51-dc43-8371b852ff3f"
      },
      "execution_count": null,
      "outputs": [
        {
          "output_type": "execute_result",
          "data": {
            "text/plain": [
              "0.9595782073813708"
            ]
          },
          "metadata": {},
          "execution_count": 5
        }
      ]
    },
    {
      "cell_type": "markdown",
      "source": [
        "Loading in my own data"
      ],
      "metadata": {
        "id": "i0LLpqK3s5_K"
      }
    },
    {
      "cell_type": "code",
      "source": [
        "ms_parts = np.empty((64,64,10))\n",
        "participant_list = [\"10000_m.set\", \"10001_m.set\",\n",
        "                    \"10002_m.set\", \"10003_m.set\", \"10005_m.set\",\n",
        "                    \"10000_e.set\", \"10001_e.set\",\n",
        "                    \"10002_e.set\", \"10003_e.set\", \"10005_e.set\"]\n",
        "\n",
        "participant_early_late = [\"10000_e.set\", \"10001_e.set\",\n",
        "                    \"10002_e.set\", \"10003_e.set\", \"10005_e.set\",\n",
        "                    \"10000_e.set\", \"10001_e.set\",\n",
        "                    \"10002_e.set\", \"10003_e.set\", \"10005_e.set\"]\n",
        "\n",
        "data_path = \"/content/drive/MyDrive/resting_state/\"\n",
        "\n",
        "# Splitting into early and late data segments (pure amplitudes!)\n",
        "for i in range(len(participant_list)):\n",
        "  raw = mne.io.read_epochs_eeglab(data_path + participant_early_late[i])\n",
        "  if i > 4:\n",
        "    raw = raw.drop(range(1,630))\n",
        "  elif i <= 4:\n",
        "    raw = raw.drop(range(85,len(raw.events)))\n",
        "  raw = raw.crop(-1.1, -0.1)\n",
        "  covariance = mne.compute_covariance(raw)\n",
        "  ms_parts[:,:,i] = covariance.data\n",
        "ms_parts = ms_parts.reshape((640, 64))\n",
        "\n",
        "# Next step: Either tf-transform here, or import another dataset\n",
        "\n",
        "\n"
      ],
      "metadata": {
        "id": "GY_L3npSjCjM"
      },
      "execution_count": null,
      "outputs": []
    },
    {
      "cell_type": "code",
      "source": [
        "# Providing labels\n",
        "original_labels = np.concatenate(\n",
        "    (np.full((320,1),1), np.full((320,1),2))).squeeze()"
      ],
      "metadata": {
        "id": "z2TW5387tcrI"
      },
      "execution_count": null,
      "outputs": []
    },
    {
      "cell_type": "markdown",
      "source": [
        "Reading in your function"
      ],
      "metadata": {
        "id": "2zaX1mC9s-kA"
      }
    },
    {
      "cell_type": "code",
      "source": [
        "def Perform_classification_RidgeRegression(TrainData, TrainLabel, TestData, TestLabel):\n",
        "\n",
        "    Ridge_regression_model = RidgeClassifier();\n",
        "    Ridge_regression_model.fit(TrainData, TrainLabel);\n",
        "    Ridge_predictions = Ridge_regression_model.predict(TestData)\n",
        "    acc_Ridge =  accuracy_score(TestLabel,Ridge_predictions);\n",
        "\n",
        "    return acc_Ridge, Ridge_predictions\n"
      ],
      "metadata": {
        "id": "zIiBPN0MMEuY"
      },
      "execution_count": null,
      "outputs": []
    },
    {
      "cell_type": "markdown",
      "source": [
        "Splitting data for training and testing"
      ],
      "metadata": {
        "id": "Hw25rhz0tSKu"
      }
    },
    {
      "cell_type": "code",
      "source": [
        "X_train, X_test, y_train, y_test = train_test_split(ms_parts,\n",
        "                                                    original_labels,\n",
        "                                                    test_size=0.3,\n",
        "                                                    random_state=1)"
      ],
      "metadata": {
        "id": "f_K9Awz2ocH_"
      },
      "execution_count": null,
      "outputs": []
    },
    {
      "cell_type": "markdown",
      "source": [
        "Running your code"
      ],
      "metadata": {
        "id": "_1iBjhoGtXZU"
      }
    },
    {
      "cell_type": "code",
      "source": [
        "[acc_Ridge, Ridge_predictions] = Perform_classification_RidgeRegression(X_train, y_train, X_test, y_test)\n",
        "print(acc_Ridge, Ridge_predictions)"
      ],
      "metadata": {
        "id": "hI5ANXkfsKbO"
      },
      "execution_count": null,
      "outputs": []
    },
    {
      "cell_type": "markdown",
      "source": [
        "#Different approach"
      ],
      "metadata": {
        "id": "xJaVo5TvgmFm"
      }
    },
    {
      "cell_type": "markdown",
      "source": [
        "Attempting a similar approach found elsewhere"
      ],
      "metadata": {
        "id": "4vgw3VottarG"
      }
    },
    {
      "cell_type": "code",
      "source": [
        "# Create standardized training dataset\n",
        "\n",
        "sc = StandardScaler()\n",
        "X_train_norm = sc.fit_transform(X_train)\n",
        "X_test_norm = sc.transform(X_test)\n",
        "\n",
        "# Create RidgeClassifier instance\n",
        "\n",
        "rdgclassifier = RidgeClassifier()\n",
        "rdgclassifier.fit(X_train_norm, y_train)\n",
        "\n",
        "# Score the classifier\n",
        "\n",
        "rdgclassifier.score(X_test_norm, y_test)"
      ],
      "metadata": {
        "id": "uAKlqk1JrHnA"
      },
      "execution_count": null,
      "outputs": []
    },
    {
      "cell_type": "markdown",
      "source": [
        "#Attempting a different combination"
      ],
      "metadata": {
        "id": "9e6fk1XHgFBY"
      }
    },
    {
      "cell_type": "code",
      "source": [
        "\n",
        "early_late = np.empty((0,64))\n",
        "\n",
        "participant_oscillation_early_late = [\"first_last.mat\"]\n",
        "i = 0\n",
        "for i in range(10):\n",
        "  raw = sc.loadmat(data_path + \"first_last.mat\")\n",
        "  raw = raw['output']\n",
        "  raw.shape\n",
        "  raw_masked = np.ma.array(raw[:,:,i].squeeze())\n",
        "  covariance = np.cov(raw_masked)\n",
        "  # sns.heatmap(covariance)\n",
        "  # plt.show()\n",
        "  early_late = np.concatenate((early_late, covariance),axis=0)\n"
      ],
      "metadata": {
        "id": "SG6ib_QehcbN"
      },
      "execution_count": null,
      "outputs": []
    },
    {
      "cell_type": "code",
      "source": [
        "original_labels_sub = np.concatenate(\n",
        "    (np.full((64,1),1), np.full((64,1),2))).squeeze()\n",
        "\n",
        "original_labels_all = np.tile(original_labels_sub,5)\n",
        "\n",
        "#original_labels_new = np.concatenate((original_labels_sub, original_labels_sub))\n",
        "#original_labels_full = np.concatenate((original_labels_new, original_labels_new))\n",
        "#original_labels_all = np.concatenate((original_labels_full, original_labels_sub))"
      ],
      "metadata": {
        "id": "Eggjb4iZtK9p"
      },
      "execution_count": null,
      "outputs": []
    },
    {
      "cell_type": "code",
      "source": [
        "X_train, X_test, y_train, y_test = train_test_split(early_late,\n",
        "                                                    original_labels_all,\n",
        "                                                    test_size=0.3,\n",
        "                                                    random_state=1)"
      ],
      "metadata": {
        "id": "Hdb5BSUwtGjx"
      },
      "execution_count": null,
      "outputs": []
    },
    {
      "cell_type": "code",
      "source": [
        "[acc_Ridge, Ridge_predictions] = Perform_classification_RidgeRegression(X_train, y_train, X_test, y_test)\n",
        "print(acc_Ridge, Ridge_predictions)"
      ],
      "metadata": {
        "id": "zrs1u-YLt5qF"
      },
      "execution_count": null,
      "outputs": []
    },
    {
      "cell_type": "markdown",
      "source": [
        "Questions:\n",
        "\n",
        "* How to test/judge beforehand that the data is suitable?\n",
        "* What is a good score?\n",
        "* How to improve the score?\n",
        "* How to expand?\n",
        "* Which other ones to try besides ridge?"
      ],
      "metadata": {
        "id": "Jn7x6XT0vFJd"
      }
    },
    {
      "cell_type": "markdown",
      "source": [
        "It may be meaningful with underlying structures, more instances to be studied.\n",
        "\n",
        "70-85 ultimately is fairly good.\n",
        "\n",
        "Stick with models that work, add on more people, expend.\n",
        "Read the paper too.\n",
        "\n",
        "Ridge is best but try out others like Keras. Above all, read the literature and consider this at participant level."
      ],
      "metadata": {
        "id": "dlzOT79dz2sD"
      }
    }
  ]
}